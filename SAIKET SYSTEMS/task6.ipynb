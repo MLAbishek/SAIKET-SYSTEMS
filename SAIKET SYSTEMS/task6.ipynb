{
 "cells": [
  {
   "cell_type": "code",
   "execution_count": null,
   "metadata": {},
   "outputs": [],
   "source": [
    "from sklearn.metrics import confusion_matrix,accuracy_score\n",
    "#For decision tree classifier model\n",
    "ac_dc=accuracy_score(y_test,dc_y_pred)\n",
    "cm_dc=confusion_matrix(y_test,dc_y_pred)\n",
    "#For naive bayes classifier model\n",
    "ac_nb=accuracy_score(y_test,nb_y_pred)\n",
    "cm_nb=confusion_matrix(y_test,nb_y_pred)\n",
    "#For K neighbors classifier model\n",
    "ac_knc=accuracy_score(y_test,knc_y_pred)\n",
    "cm_knc=confusion_matrix(y_test,knc_y_pred)"
   ]
  },
  {
   "cell_type": "code",
   "execution_count": null,
   "metadata": {},
   "outputs": [],
   "source": [
    "print(\"********************************************************************************\")\n",
    "print(\"Accuracy score of decision tree classifier is:\",ac_dc)\n",
    "print(\"Confusion matrix of decision tree classifier is:\\n\",cm_dc)\n",
    "print(\"********************************************************************************\")\n",
    "print(\"Accuracy score of naive bayes classifier is:\",ac_nb)\n",
    "print(\"Confusion matrix of naive bayes classifier is:\\n\",cm_nb)\n",
    "print(\"********************************************************************************\")\n",
    "print(\"Accuracy score of k neighbors classifier is:\",ac_knc)\n",
    "print(\"Confusion matrix of k neighbors classifier is:\\n\",cm_knc)\n",
    "print(\"********************************************************************************\")"
   ]
  }
 ],
 "metadata": {
  "language_info": {
   "name": "python"
  }
 },
 "nbformat": 4,
 "nbformat_minor": 2
}
