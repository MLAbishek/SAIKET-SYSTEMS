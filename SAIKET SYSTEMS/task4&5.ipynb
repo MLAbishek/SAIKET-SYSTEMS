{
 "cells": [
  {
   "cell_type": "code",
   "execution_count": null,
   "metadata": {},
   "outputs": [],
   "source": [
    "from sklearn.tree import DecisionTreeClassifier\n",
    "dc=DecisionTreeClassifier()\n",
    "dc_model=dc.fit(x_train,y_train)\n",
    "dc_y_pred=dc_model.predict(x_test)\n",
    "print(dc_y_pred)"
   ]
  },
  {
   "cell_type": "code",
   "execution_count": null,
   "metadata": {},
   "outputs": [],
   "source": [
    "from sklearn.naive_bayes import GaussianNB\n",
    "nb=GaussianNB()\n",
    "nb_model=nb.fit(x_train,y_train)\n",
    "nb_y_pred=nb_model.predict(x_test)\n",
    "print(nb_y_pred)"
   ]
  },
  {
   "cell_type": "code",
   "execution_count": null,
   "metadata": {},
   "outputs": [],
   "source": [
    "from sklearn.neighbors import KNeighborsClassifier\n",
    "knc=KNeighborsClassifier(n_neighbors=15)\n",
    "knc_model=knc.fit(x_train,y_train)\n",
    "knc_y_pred=knc.predict(x_test)\n",
    "print(knc_y_pred)"
   ]
  }
 ],
 "metadata": {
  "language_info": {
   "name": "python"
  }
 },
 "nbformat": 4,
 "nbformat_minor": 2
}
